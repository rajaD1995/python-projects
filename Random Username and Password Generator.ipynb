{
 "cells": [
  {
   "cell_type": "markdown",
   "id": "8d7fe8a1",
   "metadata": {},
   "source": [
    "Features\n",
    "1. Generates a unique username (random + meaningful)\n",
    "2. Creates a strong password (mix of letters, numbers, and symbols)\n",
    "3. Ensures password strength (at least one uppercase, one lowercase, one digit, one special character)\n",
    "3. Provides an option to generate multiple usernames & passwords"
   ]
  },
  {
   "cell_type": "code",
   "execution_count": 1,
   "id": "f1c00faf",
   "metadata": {},
   "outputs": [
    {
     "name": "stdout",
     "output_type": "stream",
     "text": [
      "Welcome to the Username & Password Generator!\n",
      "Enter the number of usernames & passwords to generate: 1\n",
      "\n",
      "🆔 Username: Sneha647@gmail.com\n",
      "🔑 Password: A\\;dT99iiLk5\n",
      "\n",
      "🎉 Generation Complete! Keep your credentials safe.\n"
     ]
    }
   ],
   "source": [
    "import random\n",
    "import string\n",
    "\n",
    "def generate_username():\n",
    "    \"\"\"Generate a random username with a mix of words and numbers.\"\"\"\n",
    "    words = [\"Aryan\", \"Daksh\", \"Ishaan\", \"Rishi\", \"Kiran\", \"Shivam\", \"Dev\", \"Nihar\", \"Tanish\", \"Yuvan\",\n",
    "    \"Aditya\", \"Akash\", \"Arjun\", \"Harsh\", \"Karthik\", \"Manish\", \"Rahul\", \"Sandeep\", \"Varun\", \"Vikram\",\n",
    "    \"Ananya\", \"Divya\", \"Ishita\", \"Kavya\", \"Meera\", \"Nandini\", \"Priya\", \"Sneha\", \"Tanya\", \"Vaishnavi\"]\n",
    "    number = random.randint(100, 1001)\n",
    "    return random.choice(words) + str(number)\n",
    "\n",
    "def generate_password(length=12):\n",
    "    \"\"\"Generate a secure random password.\"\"\"\n",
    "    if length < 8:\n",
    "        print(\"Password length should be at least 8 characters for security.\")\n",
    "        return None\n",
    "\n",
    "    all_chars = string.ascii_letters + string.digits + string.punctuation\n",
    "    password = random.choices(string.ascii_uppercase, k=2)  # At least 2 uppercase letters\n",
    "    password += random.choices(string.ascii_lowercase, k=3)  # At least 3 lowercase letters\n",
    "    password += random.choices(string.digits, k=2)  # At least 2 digits\n",
    "    password += random.choices(string.punctuation, k=2)  # At least 2 special characters\n",
    "    password += random.choices(all_chars, k=length - len(password))  # Fill remaining length\n",
    "    \n",
    "    random.shuffle(password)  # Shuffle to make it random\n",
    "    return ''.join(password)\n",
    "\n",
    "def main():\n",
    "    print(\"Welcome to the Username & Password Generator!\")\n",
    "    \n",
    "    num_accounts = int(input(\"Enter the number of usernames & passwords to generate: \"))\n",
    "    \n",
    "    for i in range(num_accounts):\n",
    "        username = generate_username() + '@gmail.com'\n",
    "        password = generate_password()\n",
    "        print(f\"\\n🆔 Username: {username}\")\n",
    "        print(f\"🔑 Password: {password}\")\n",
    "    \n",
    "    print(\"\\n🎉 Generation Complete! Keep your credentials safe.\")\n",
    "\n",
    "if __name__ == \"__main__\":\n",
    "    main()"
   ]
  },
  {
   "cell_type": "code",
   "execution_count": null,
   "id": "1d180e89",
   "metadata": {},
   "outputs": [],
   "source": []
  }
 ],
 "metadata": {
  "kernelspec": {
   "display_name": "Python 3 (ipykernel)",
   "language": "python",
   "name": "python3"
  },
  "language_info": {
   "codemirror_mode": {
    "name": "ipython",
    "version": 3
   },
   "file_extension": ".py",
   "mimetype": "text/x-python",
   "name": "python",
   "nbconvert_exporter": "python",
   "pygments_lexer": "ipython3",
   "version": "3.11.5"
  }
 },
 "nbformat": 4,
 "nbformat_minor": 5
}
