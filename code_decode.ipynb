{
 "cells": [
  {
   "cell_type": "markdown",
   "id": "d81b14e1",
   "metadata": {},
   "source": [
    "code or decode messages.\n",
    "1. Users give a sentence, and code will code the sentence as follows: \n",
    "    1. If the number of letters in a word is more than 2 then- \n",
    "        1st letter will be removed and added at the last position and 3 random letters will be added at the beginning and end. \n",
    "    2. If the number of letters in a word is less than 3, then it will simply reverse the letters.  \n",
    "2. Decoding is done by simply following the opposite steps of coding."
   ]
  },
  {
   "cell_type": "code",
   "execution_count": 1,
   "id": "5fc35378",
   "metadata": {},
   "outputs": [
    {
     "name": "stdout",
     "output_type": "stream",
     "text": [
      "Please select \"c\" for code and \"d\" for decode: c\n",
      "Enter the sentence you want to encode: Raja debnath is the handeler. Give him the bomb\n",
      "Encoded Sentence: nbxajaReeN GEYebnathdNau rsesitEJ SNghetFyi QzMandeler.hiND xHyiveGils jksimhTGq KZthetCVi RADombbxpq\n"
     ]
    }
   ],
   "source": [
    "import random\n",
    "import string\n",
    "\n",
    "def generate_random_chars():\n",
    "    \"\"\"Generate 6 random letters.\"\"\"\n",
    "    return ''.join(random.choices(string.ascii_letters, k=6))\n",
    "\n",
    "while True:\n",
    "    code_decode = input(\"Please select \\\"c\\\" for code and \\\"d\\\" for decode: \").lower()\n",
    "\n",
    "    if code_decode == \"c\":\n",
    "        code_name = input(\"Enter the sentence you want to encode: \")\n",
    "        words = code_name.split()  # Split sentence into words\n",
    "        encoded_words = []\n",
    "\n",
    "        for word in words:\n",
    "            random_chars = generate_random_chars()\n",
    "            if len(word) > 2:\n",
    "                encoded_word = random_chars[:3] + word[1:] + word[0] + random_chars[3:]\n",
    "            else:\n",
    "                encoded_word = random_chars[:3] + word[::-1] + random_chars[3:]\n",
    "\n",
    "            encoded_words.append(encoded_word)\n",
    "\n",
    "        print(\"Encoded Sentence:\", \" \".join(encoded_words))\n",
    "        break  # Exit loop after encoding\n",
    "\n",
    "    elif code_decode == \"d\":\n",
    "        code_name = input(\"Enter the encoded sentence you want to decode: \")\n",
    "        words = code_name.split()\n",
    "        decoded_words = []\n",
    "\n",
    "        for word in words:\n",
    "            core_word = word[3:-3]  # Remove the first and last 3 characters\n",
    "            if len(core_word) > 2:\n",
    "                decoded_word = core_word[-1] + core_word[:-1]\n",
    "            else:\n",
    "                decoded_word = core_word[::-1]  # Reverse for short words\n",
    "\n",
    "            decoded_words.append(decoded_word)\n",
    "\n",
    "        print(\"Decoded Sentence:\", \" \".join(decoded_words))\n",
    "        break  # Exit loop after decoding\n",
    "\n",
    "    else:\n",
    "        print(\"⚠️ Please enter either \\\"c\\\" for encode or \\\"d\\\" for decode.\")\n"
   ]
  },
  {
   "cell_type": "code",
   "execution_count": null,
   "id": "15f5b27f",
   "metadata": {},
   "outputs": [],
   "source": []
  }
 ],
 "metadata": {
  "kernelspec": {
   "display_name": "Python 3 (ipykernel)",
   "language": "python",
   "name": "python3"
  },
  "language_info": {
   "codemirror_mode": {
    "name": "ipython",
    "version": 3
   },
   "file_extension": ".py",
   "mimetype": "text/x-python",
   "name": "python",
   "nbconvert_exporter": "python",
   "pygments_lexer": "ipython3",
   "version": "3.11.5"
  }
 },
 "nbformat": 4,
 "nbformat_minor": 5
}
